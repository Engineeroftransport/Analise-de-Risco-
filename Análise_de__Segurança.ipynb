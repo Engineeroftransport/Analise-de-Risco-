{
  "nbformat": 4,
  "nbformat_minor": 0,
  "metadata": {
    "colab": {
      "provenance": [],
      "authorship_tag": "ABX9TyNF7RDd+x8PJkXnW+arTl3h",
      "include_colab_link": true
    },
    "kernelspec": {
      "name": "python3",
      "display_name": "Python 3"
    },
    "language_info": {
      "name": "python"
    }
  },
  "cells": [
    {
      "cell_type": "markdown",
      "metadata": {
        "id": "view-in-github",
        "colab_type": "text"
      },
      "source": [
        "<a href=\"https://colab.research.google.com/github/Engineeroftransport/Analise-de-seguran-a-aerovi-ria/blob/main/An%C3%A1lise_de__Seguran%C3%A7a.ipynb\" target=\"_parent\"><img src=\"https://colab.research.google.com/assets/colab-badge.svg\" alt=\"Open In Colab\"/></a>"
      ]
    },
    {
      "cell_type": "markdown",
      "source": [
        "#Primeiro passo"
      ],
      "metadata": {
        "id": "9a-PbO7sw6xY"
      }
    },
    {
      "cell_type": "markdown",
      "source": [
        "Coleta de dados da aeronave"
      ],
      "metadata": {
        "id": "9Spg08J9xJye"
      }
    },
    {
      "cell_type": "code",
      "source": [
        "#Cadastrando a aeronave\n",
        "modelo_aeronave = input(\"Digite o modelo da aeronave: \")\n",
        "categoria_aeronave = input(\"Qual é a categoria da aeronave: \")\n",
        "comprimento_aeronave = float(input(\"valor do comprimento: \"))\n",
        "envergadura_aeronave = float(input(\"Valor da envergadura: \"))\n",
        "altura_aeronave = float(input(\"Valor da altura: \"))\n",
        "bitola_aeronave =  float(input(\"Valor da bitola da aeronave: \"))\n",
        "raio_minimo_da_curva = float(input(\"Raio minimo da curva: \"))\n",
        "C = float(input(\"Valor da distância da roda externa do trem de pouso para a borda do pavimento: \"))\n",
        "C2 = float(input(\"Valor da distancia da roda externa do trem de pouso para a borda do pavimento(Pista de táxi): \"))\n",
        "# C é a distância da roda externa do trem de pouso para a borda do pavimento\n"
      ],
      "metadata": {
        "id": "qfr49hb7xPjW"
      },
      "execution_count": null,
      "outputs": []
    },
    {
      "cell_type": "markdown",
      "source": [
        "Dados do Aeroporto"
      ],
      "metadata": {
        "id": "bKf-WdO9mimD"
      }
    },
    {
      "cell_type": "code",
      "source": [
        " codigo_aeroporto = input(\"Digite o codigo do Aeroporto: \")\n",
        " largura_ppd_aeroporto = float(input(\"Largura da pista de pouso e decolagem do aeroporto: \"))\n",
        " largura_pt_aeroporto = float(input(\"Largura da pista de táxi do aeroporto: \"))\n",
        " faixa_de_pista = float(input(\"Largura da faixa de pista do aeroporto: \"))\n",
        " acostamento = float(input(\"Acostamento do aeroporto: \"))\n",
        " X = float(input(\"Máximo desvio lateral: \"))\n",
        " mtow_aeroporto = float(input(\"Peso maximo de decolagem(MTOW): \"))\n",
        " Z = float(input(\"Margem de segurança: \"))"
      ],
      "metadata": {
        "id": "wEWcfv3todHC"
      },
      "execution_count": null,
      "outputs": []
    },
    {
      "cell_type": "markdown",
      "source": [
        "MTOW (Maximum Takeoof Weight) Peso Maximo de Decolagem"
      ],
      "metadata": {
        "id": "7RoorfqhhrSM"
      }
    },
    {
      "cell_type": "code",
      "source": [
        "peso_vazio = float(input(\"Peso Vazio da Aeronave(kg): \"))\n",
        "carga_util = float(input(\"Carga útil da aeronave(kg): \"))\n",
        "combustivel = float(input(\"Quantidae de combustivel(kg): \"))"
      ],
      "metadata": {
        "id": "eh3yP1lwhxkq"
      },
      "execution_count": null,
      "outputs": []
    },
    {
      "cell_type": "markdown",
      "source": [
        "Equações"
      ],
      "metadata": {
        "id": "j8IWlkIybS_L"
      }
    },
    {
      "cell_type": "code",
      "source": [
        "#MTOW\n",
        "MTOW = peso_vazio + carga_util + combustivel\n",
        "\n",
        "#Largura da pista de pouso e decolagem para a aeronave\n",
        "largura_ppd = bitola_aeronave + 2 *C\n",
        "\n",
        "#largura da pista de táxi\n",
        "largura_pt = bitola_aeronave + 2 *C2\n",
        "\n",
        "#Análise do acostamento da pista de pouso e decolagem\n",
        "segurança1 = largura_ppd_aeroporto + acostamento\n",
        "\n",
        "#Análise de separação - pista de táxi e de pouso e decolagem\n",
        "## distância entre eixos de pistas de táxi e de pista depouso e decolagem\n",
        "D1 = 0.5 * (faixa_de_pista + envergadura_aeronave)\n",
        "\n",
        "## distância ente o eixo da pista de táxi de acesso ao estacionamentoe um objeto\n",
        "D2 = 0.5 * envergadura_aeronave + X + Z\n"
      ],
      "metadata": {
        "id": "-HSFasd8VtDp"
      },
      "execution_count": null,
      "outputs": []
    },
    {
      "cell_type": "markdown",
      "source": [
        "Informações iniciais"
      ],
      "metadata": {
        "id": "JhgFfFxMMZio"
      }
    },
    {
      "cell_type": "code",
      "source": [
        "print(\"Modelo da aeronave: \",modelo_aeronave)\n",
        "print(\"Codigo da aeronave: \",categoria_aeronave)"
      ],
      "metadata": {
        "id": "eheTI2hmMkCX"
      },
      "execution_count": null,
      "outputs": []
    },
    {
      "cell_type": "markdown",
      "source": [
        "Condições"
      ],
      "metadata": {
        "id": "IDIZLoCSY5E-"
      }
    },
    {
      "cell_type": "code",
      "source": [
        "if largura_ppd >largura_ppd_aeroporto:\n",
        "  print(\"A aeronave nâo é compativel com a Pista de pouso e decolagem\")\n",
        "  print(\"Largura necessaria: \",largura_ppd)\n",
        "  print(\"Largura da pista do aeroporto: \",largura_ppd_aeroporto)\n",
        "else:\n",
        "   print(\"A aeronave é compativel com a Pista de pouso e decolagem\")\n",
        "   print(\"Largura necessaria: \",largura_ppd)\n",
        "   print(\"Largura da pista do aeroporto: \",largura_ppd_aeroporto)\n",
        "\n",
        "if largura_pt > largura_pt_aeroporto:\n",
        "  print(\"A aeronave não é compativel com a táxiway\")\n",
        "  print(\"Largura necessaria: \",largura_pt)\n",
        "else:\n",
        "  print(\"A aeronave é compativel com a táxiway\")\n",
        "  print(\"Largura necessaria: \",largura_pt)\n",
        "  print(\"Largura da táxiway do aeroporto: \",largura_pt_aeroporto)\n",
        "if MTOW > mtow_aeroporto:\n",
        "  print(\"Peso de decolagem incompativel\")\n",
        "  print(\"MTOW: \",MTOW)\n",
        "  print(\"MTOW do aeroporto: \",mtow_aeroporto)\n",
        "else:\n",
        "  print(\"Peso compatível\")\n",
        "  print(\"MTOW \",MTOW)\n",
        "  print(\"MTOW do aeroporto: \",mtow_aeroporto)\n"
      ],
      "metadata": {
        "id": "UmN_qPKzY5X1"
      },
      "execution_count": null,
      "outputs": []
    },
    {
      "cell_type": "markdown",
      "source": [
        "Análise de segurança"
      ],
      "metadata": {
        "id": "GFyYp2NcH7aP"
      }
    },
    {
      "cell_type": "code",
      "source": [
        "#Analise de acostamento\n",
        "print(\"Segurança recomendavel para acostamento: \",segurança1)\n",
        "#Analise da Distância\n",
        "print(\"É recomendavel que a distância entre a pista de táxi e de pouso e decolagem seja: \",D1)\n",
        "print(\"É recomendavel que a distancia entre os eixos da pista de táxi para o eixo de outra pista de táxi seja: \",D2)\n",
        "print(\"È recomendavel que a distância entre o eixo de uma pista de táxi de acesso ao estacionamento e um objeto seja: \",D2)"
      ],
      "metadata": {
        "id": "lxnfOZGFILMr"
      },
      "execution_count": null,
      "outputs": []
    }
  ]
}